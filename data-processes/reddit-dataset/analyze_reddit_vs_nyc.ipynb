{
 "cells": [
  {
   "cell_type": "code",
   "execution_count": 2,
   "id": "14a26721",
   "metadata": {},
   "outputs": [],
   "source": [
    "import pandas as pd\n",
    "import matplotlib.pyplot as plt"
   ]
  },
  {
   "cell_type": "code",
   "execution_count": null,
   "id": "b76dba42",
   "metadata": {},
   "outputs": [],
   "source": [
    "def compare_with_nyc_data(reddit_df, nyc_calculations):\n",
    "    \"\"\"Compare Reddit reported earnings with NYC calculations\"\"\"\n",
    "    \n",
    "    comparison = {\n",
    "        'Source': ['Reddit Average', 'NYC TLC Analysis'],\n",
    "        'Hourly Rate (Net)': [\n",
    "            reddit_df['hourly_rate'].mean() if 'hourly_rate' in reddit_df else None,\n",
    "            nyc_calculations['avg_net_hourly']\n",
    "        ],\n",
    "        'Weekly Earnings': [\n",
    "            reddit_df['weekly_earnings'].mean() if 'weekly_earnings' in reddit_df else None,\n",
    "            nyc_calculations['avg_weekly_net']\n",
    "        ]\n",
    "    }\n",
    "    \n",
    "    comp_df = pd.DataFrame(comparison)\n",
    "    \n",
    "    # Visualization\n",
    "    fig, (ax1, ax2) = plt.subplots(1, 2, figsize=(12, 5))\n",
    "    \n",
    "    # Hourly comparison\n",
    "    ax1.bar(comp_df['Source'], comp_df['Hourly Rate (Net)'])\n",
    "    ax1.set_title('Hourly Rate Comparison')\n",
    "    ax1.set_ylabel('USD/hour')\n",
    "    ax1.axhline(y=15, color='r', linestyle='--', label='NYC Min Wage')\n",
    "    \n",
    "    # Weekly comparison  \n",
    "    ax2.bar(comp_df['Source'], comp_df['Weekly Earnings'])\n",
    "    ax2.set_title('Weekly Earnings Comparison')\n",
    "    ax2.set_ylabel('USD/week')\n",
    "    \n",
    "    plt.tight_layout()\n",
    "    plt.savefig('reddit_vs_nyc_comparison.png')\n",
    "    \n",
    "    return comp_df"
   ]
  }
 ],
 "metadata": {
  "kernelspec": {
   "display_name": "venv",
   "language": "python",
   "name": "python3"
  },
  "language_info": {
   "codemirror_mode": {
    "name": "ipython",
    "version": 3
   },
   "file_extension": ".py",
   "mimetype": "text/x-python",
   "name": "python",
   "nbconvert_exporter": "python",
   "pygments_lexer": "ipython3",
   "version": "3.11.9"
  }
 },
 "nbformat": 4,
 "nbformat_minor": 5
}
