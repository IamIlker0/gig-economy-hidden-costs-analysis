{
 "cells": [
  {
   "cell_type": "code",
   "execution_count": 2,
   "id": "b8f3d484",
   "metadata": {},
   "outputs": [],
   "source": [
    "import pandas as pd\n",
    "import json"
   ]
  },
  {
   "cell_type": "code",
   "execution_count": 3,
   "id": "bc574b73",
   "metadata": {},
   "outputs": [],
   "source": [
    "df = pd.read_csv('reddit_earnings_cleaned.csv')\n",
    "hourly = df['hourly_rate'].dropna()"
   ]
  },
  {
   "cell_type": "code",
   "execution_count": 4,
   "id": "3933dc9f",
   "metadata": {},
   "outputs": [],
   "source": [
    "Q1, Q3 = hourly.quantile(0.25), hourly.quantile(0.75)\n",
    "IQR = Q3 - Q1\n",
    "outlier_mask = (hourly > Q3 + 1.5 * IQR)"
   ]
  },
  {
   "cell_type": "code",
   "execution_count": 11,
   "id": "b3b42eaa",
   "metadata": {},
   "outputs": [],
   "source": [
    "# Final statistics\n",
    "final_stats = {\n",
    "    'total_posts': int(len(df)),\n",
    "    'hourly_rate_posts': int(len(hourly)),\n",
    "    'mean_hourly': float(round(hourly.mean(), 2)),\n",
    "    'median_hourly': float(round(hourly.median(), 2)),\n",
    "    'trimmed_mean': float(round(hourly[(hourly >= hourly.quantile(0.1)) & \n",
    "                                       (hourly <= hourly.quantile(0.9))].mean(), 2)),\n",
    "    'pct_below_15': float(round((hourly < 15).mean() * 100, 1)),\n",
    "    'pct_below_20': float(round((hourly < 20).mean() * 100, 1)),\n",
    "    'outlier_count': int(outlier_mask.sum()),\n",
    "    'q1': float(round(Q1, 2)),\n",
    "    'q3': float(round(Q3, 2)),\n",
    "    'iqr': float(round(IQR, 2))\n",
    "}"
   ]
  },
  {
   "cell_type": "code",
   "execution_count": 12,
   "id": "7f39c653",
   "metadata": {},
   "outputs": [
    {
     "name": "stdout",
     "output_type": "stream",
     "text": [
      "=== FINAL REDDIT STATISTICS ===\n",
      "Sample Size: 88 posts\n",
      "\n",
      "Central Tendency:\n",
      "  Mean: $25.3/hour\n",
      "  Median: $21.5/hour (more reliable)\n",
      "  Trimmed Mean: $23.18/hour\n",
      "\n",
      "Distribution:\n",
      "  25th percentile: $15.0\n",
      "  75th percentile: $30.0\n",
      "  21.6% earn below $15/hour\n",
      "  34.1% earn below $20/hour\n",
      "\n",
      "Data Quality:\n",
      "  Outliers: 5 posts (kept in analysis)\n"
     ]
    }
   ],
   "source": [
    "# Save final stats\n",
    "with open('reddit_final_stats.json', 'w') as f:\n",
    "    json.dump(final_stats, f, indent=2)\n",
    "\n",
    "print(\"=== FINAL REDDIT STATISTICS ===\")\n",
    "print(f\"Sample Size: {final_stats['hourly_rate_posts']} posts\")\n",
    "print(f\"\\nCentral Tendency:\")\n",
    "print(f\"  Mean: ${final_stats['mean_hourly']}/hour\")\n",
    "print(f\"  Median: ${final_stats['median_hourly']}/hour (more reliable)\")\n",
    "print(f\"  Trimmed Mean: ${final_stats['trimmed_mean']}/hour\")\n",
    "print(f\"\\nDistribution:\")\n",
    "print(f\"  25th percentile: ${final_stats['q1']}\")\n",
    "print(f\"  75th percentile: ${final_stats['q3']}\")\n",
    "print(f\"  {final_stats['pct_below_15']}% earn below $15/hour\")\n",
    "print(f\"  {final_stats['pct_below_20']}% earn below $20/hour\")\n",
    "print(f\"\\nData Quality:\")\n",
    "print(f\"  Outliers: {final_stats['outlier_count']} posts (kept in analysis)\")"
   ]
  },
  {
   "cell_type": "code",
   "execution_count": null,
   "id": "ea3fb922",
   "metadata": {},
   "outputs": [],
   "source": []
  }
 ],
 "metadata": {
  "kernelspec": {
   "display_name": "venv",
   "language": "python",
   "name": "python3"
  },
  "language_info": {
   "codemirror_mode": {
    "name": "ipython",
    "version": 3
   },
   "file_extension": ".py",
   "mimetype": "text/x-python",
   "name": "python",
   "nbconvert_exporter": "python",
   "pygments_lexer": "ipython3",
   "version": "3.11.9"
  }
 },
 "nbformat": 4,
 "nbformat_minor": 5
}
